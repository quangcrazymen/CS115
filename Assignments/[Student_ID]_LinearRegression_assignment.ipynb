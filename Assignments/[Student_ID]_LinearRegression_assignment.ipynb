{
  "cells": [
    {
      "cell_type": "markdown",
      "metadata": {
        "id": "9NFhFNqfk9j6"
      },
      "source": [
        "Full Name: Nguyễn Đỗ Quang\n",
        "\n",
        "Student ID: 20520720"
      ]
    },
    {
      "cell_type": "markdown",
      "metadata": {
        "id": "1Gb0yc6EnPok"
      },
      "source": [
        "**Experiment Requirements (for all datasets)**\n",
        "- Train - test splitting ratio = 7:3.\n",
        "- Random_state = 'Your Student ID'.\n",
        "- Experiment with **Gradient Descent** (*max_iter = 200*, *learning_rate (eta)* is set by yourself) and **Normal Equation**.\n",
        "- Visualize the cost trend (only for Gradient Descent)\n",
        "- Evaluation Metric: **R2 score**.\n",
        "- After completing all requirements, click on ‘Runtime’ and choose ‘Restart and run all’.\n",
        "- If the code is run without any errors (and the results are the same as before re-running), download the .ipybn file and submit. \n",
        "Otherwise, check the code carefully.\n"
      ]
    },
    {
      "cell_type": "markdown",
      "metadata": {
        "id": "g9CgxY0ph1iF"
      },
      "source": [
        "# Fish Dataset"
      ]
    },
    {
      "cell_type": "markdown",
      "metadata": {
        "id": "wME5TQSziZPP"
      },
      "source": [
        "🐟🐟 **Dataset Information (fish.csv)** 🐟🐟\n",
        "- Weight: Weight of fish in gram\n",
        "- Length1: Vertical length in cm\n",
        "- Length2: Diagonal length in cm\n",
        "- Length3: Cross length in cm\n",
        "- Height: Height in cm\n",
        "- Width: Diagonal width in cm"
      ]
    },
    {
      "cell_type": "markdown",
      "metadata": {
        "id": "pj2frDFyistE"
      },
      "source": [
        "📚📚 **Problem Requirement** 📚📚\n",
        "\n",
        "Use all remaining attributes to estimate the **weight** of fish.\n"
      ]
    },
    {
      "cell_type": "markdown",
      "metadata": {
        "id": "-7KQpJK5kMHQ"
      },
      "source": [
        "**Note**: Try to make the Gradient Descent achieving the comparable performance to the Normal Equation model. ✌✌\n",
        "\n",
        "**Hint**💡: Apply (suitable) techniques in Data Preprocessing tutorial file."
      ]
    },
    {
      "cell_type": "code",
      "execution_count": 12,
      "metadata": {
        "id": "tIHZOpLPhgOK"
      },
      "outputs": [
        {
          "data": {
            "text/plain": [
              "array([[ 0.69801883],\n",
              "       [-0.74969078],\n",
              "       [ 1.0566258 ],\n",
              "       [ 2.19885541],\n",
              "       [-0.80281774],\n",
              "       [-0.80281774],\n",
              "       [-1.10165688],\n",
              "       [-0.40436555],\n",
              "       [ 0.77505292],\n",
              "       [-0.7231273 ],\n",
              "       [-0.789536  ],\n",
              "       [-0.62218608],\n",
              "       [-0.8559447 ],\n",
              "       [ 1.0566258 ],\n",
              "       [ 1.10975276],\n",
              "       [ 1.26913364],\n",
              "       [-0.73640904],\n",
              "       [ 0.02065011],\n",
              "       [ 1.46835973],\n",
              "       [-0.59030991],\n",
              "       [ 1.53476843],\n",
              "       [-0.96219862],\n",
              "       [ 0.07377707],\n",
              "       [-0.52390121],\n",
              "       [ 0.20659447],\n",
              "       [ 1.40195103],\n",
              "       [ 0.07377707],\n",
              "       [ 1.3222606 ],\n",
              "       [-0.91438435],\n",
              "       [ 0.92380841],\n",
              "       [-0.32467512],\n",
              "       [-0.89047722],\n",
              "       [-0.3512386 ],\n",
              "       [-0.32467512],\n",
              "       [ 1.40195103],\n",
              "       [ 1.53476843],\n",
              "       [-0.45749251],\n",
              "       [-1.06871817],\n",
              "       [-0.1573252 ],\n",
              "       [-0.80281774],\n",
              "       [-0.98477757],\n",
              "       [-0.73640904],\n",
              "       [ 0.73786405],\n",
              "       [-0.67265669],\n",
              "       [ 0.73786405],\n",
              "       [ 0.47222926],\n",
              "       [-0.59030991],\n",
              "       [-0.41764729],\n",
              "       [-0.0856038 ],\n",
              "       [-0.80281774],\n",
              "       [-0.93563514],\n",
              "       [ 1.53476843],\n",
              "       [ 1.33554233],\n",
              "       [-0.67000035],\n",
              "       [-1.08598443],\n",
              "       [-0.7231273 ],\n",
              "       [-0.39905286],\n",
              "       [-1.10590704],\n",
              "       [-0.82938122],\n",
              "       [-0.82938122],\n",
              "       [-0.45749251],\n",
              "       [ 0.35534995],\n",
              "       [-0.93829149],\n",
              "       [-1.12157949],\n",
              "       [-0.2184212 ],\n",
              "       [-0.64343687],\n",
              "       [ 0.73786405],\n",
              "       [-0.59030991],\n",
              "       [-0.80281774],\n",
              "       [ 0.52535622],\n",
              "       [ 0.69801883],\n",
              "       [ 0.80427275],\n",
              "       [-0.20513946],\n",
              "       [ 0.47222926],\n",
              "       [-1.09528165],\n",
              "       [ 0.73786405],\n",
              "       [ 1.53476843],\n",
              "       [-0.7231273 ],\n",
              "       [-1.09554728],\n",
              "       [-0.67000035],\n",
              "       [-1.06924944],\n",
              "       [ 1.00349884],\n",
              "       [ 0.02065011],\n",
              "       [-0.97548036],\n",
              "       [ 0.20659447],\n",
              "       [-1.10298506],\n",
              "       [ 0.31284839],\n",
              "       [ 3.26139458],\n",
              "       [ 1.26913364],\n",
              "       [ 0.71130057],\n",
              "       [-0.27154816],\n",
              "       [ 3.12857718],\n",
              "       [-0.40436555],\n",
              "       [-0.90907166],\n",
              "       [ 0.14018577],\n",
              "       [ 1.13631624],\n",
              "       [-0.77625426],\n",
              "       [ 1.53476843],\n",
              "       [ 2.99575979],\n",
              "       [ 0.23315795],\n",
              "       [ 0.20659447],\n",
              "       [-1.01532558],\n",
              "       [-0.77625426],\n",
              "       [-1.09554728],\n",
              "       [-0.74969078],\n",
              "       [-0.32467512],\n",
              "       [ 1.13631624],\n",
              "       [ 0.08971516],\n",
              "       [-0.59827895],\n",
              "       [-0.64343687],\n",
              "       [-1.09846927]])"
            ]
          },
          "execution_count": 12,
          "metadata": {},
          "output_type": "execute_result"
        }
      ],
      "source": [
        "import pandas as pd\n",
        "import numpy as np\n",
        "import matplotlib.pyplot as plt\n",
        "from sklearn.preprocessing import StandardScaler\n",
        "from sklearn.model_selection import train_test_split\n",
        "\n",
        "fishDF = pd.read_csv('fish.csv')\n",
        "X = fishDF.iloc[:,:1]\n",
        "y = fishDF.iloc[:,1:]\n",
        "# Train test ratio 7:3\n",
        "X_train,X_test,y_train,y_test = train_test_split(X,y,test_size=0.3,random_state=20520720)\n",
        "# Use feature scaling\n",
        "sc = StandardScaler()\n",
        "X_train = sc.fit_transform(X_train)\n",
        "X_test  =sc.transform(X_test)\n",
        "\n",
        "# Use gradient descent\n",
        "from sklearn.linear_model import SGDRegressor\n",
        "# Use normal equation\n",
        "from sklearn.linear_model import LinearRegression"
      ]
    },
    {
      "cell_type": "code",
      "execution_count": null,
      "metadata": {},
      "outputs": [],
      "source": [
        "from sklearn.linear_model import LinearRegression"
      ]
    },
    {
      "cell_type": "markdown",
      "metadata": {
        "id": "lGWM0AT3h_z7"
      },
      "source": [
        "# Insurance Dataset"
      ]
    },
    {
      "cell_type": "markdown",
      "metadata": {
        "id": "t3XRaiasnKeB"
      },
      "source": [
        "💰💰 **Dataset Information (insurance.csv)** 💰💰\n",
        "- age: Age of primary beneficiary\n",
        "- sex: Insurance contractor gender, female / male\n",
        "- bmi: Body mass index, providing an understanding of body, weights that are relatively high or low relative to\n",
        "- children: Number of children covered by health insurance / Number of dependents\n",
        "- smoker: Smoker / Non-smoker\n",
        "- region: The beneficiary's residential area in the US, northeast, southeast, southwest, northwest\n",
        "- charges: Individual medical costs billed by health insurance"
      ]
    },
    {
      "cell_type": "markdown",
      "metadata": {
        "id": "2_B9zbFznKeD"
      },
      "source": [
        "📚📚 **Problem Requirement** 📚📚\n",
        "\n",
        "Use all remaining attributes to estimate the individual medical costs billed by health insurance ('**charges**')\n"
      ]
    },
    {
      "cell_type": "markdown",
      "metadata": {
        "id": "S-SAz8n4nKeE"
      },
      "source": [
        "**Note**: Try to make the Gradient Descent achieving the comparable performance to the Normal Equation model. ✌✌\n",
        "\n",
        "**Hint**💡: Apply (suitable) techniques in the Data Preprocessing tutorial file."
      ]
    },
    {
      "cell_type": "code",
      "execution_count": null,
      "metadata": {
        "id": "HwPfBssTp4vq"
      },
      "outputs": [],
      "source": [
        "# Code here\n"
      ]
    },
    {
      "cell_type": "markdown",
      "metadata": {
        "id": "ymYJad2ch5Yt"
      },
      "source": [
        "# Tesla Stock Dataset"
      ]
    },
    {
      "cell_type": "markdown",
      "metadata": {
        "id": "vLkcaH7Hpyhv"
      },
      "source": [
        "📈📈 **Dataset Information (tesla_stock.csv)** 📈📈\n",
        "- Open: The opening price of the stock\n",
        "- High: The high price of that day\n",
        "- Low: The low price of that day\n",
        "- Close: The closed price of that day\n",
        "- Volume: The amount of stocks traded during that day"
      ]
    },
    {
      "cell_type": "markdown",
      "metadata": {
        "id": "k9q59HmEpyhv"
      },
      "source": [
        "📚📚 **Problem Requirement** 📚📚\n",
        "\n",
        "Use all remaining attributes to predict the closing price of tesla stock ('**Close**')\n"
      ]
    },
    {
      "cell_type": "markdown",
      "metadata": {
        "id": "jcQmt-VJpyhv"
      },
      "source": [
        "**Note**: Try to make the Gradient Descent achieving the comparable performance to the Normal Equation model. ✌✌\n",
        "\n",
        "**Hint**💡: Apply (suitable) techniques in the Data Preprocessing tutorial file."
      ]
    },
    {
      "cell_type": "code",
      "execution_count": null,
      "metadata": {
        "id": "0yYAVZJnpyNK"
      },
      "outputs": [],
      "source": [
        "# Code here\n"
      ]
    }
  ],
  "metadata": {
    "colab": {
      "provenance": []
    },
    "kernelspec": {
      "display_name": "Python 3.9.12 ('base')",
      "language": "python",
      "name": "python3"
    },
    "language_info": {
      "codemirror_mode": {
        "name": "ipython",
        "version": 3
      },
      "file_extension": ".py",
      "mimetype": "text/x-python",
      "name": "python",
      "nbconvert_exporter": "python",
      "pygments_lexer": "ipython3",
      "version": "3.9.12"
    },
    "vscode": {
      "interpreter": {
        "hash": "6dcb0d9805d08a843cfc853bb719e5cc69641d6ffa2eb5de5176bae33a8f36bf"
      }
    }
  },
  "nbformat": 4,
  "nbformat_minor": 0
}
