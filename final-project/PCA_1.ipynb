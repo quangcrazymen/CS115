{
 "cells": [
  {
   "cell_type": "code",
   "execution_count": 15,
   "metadata": {},
   "outputs": [],
   "source": [
    "import numpy as np\n",
    "import pandas as pd\n",
    "import matplotlib.pyplot as plt\n",
    "import seaborn as sns\n",
    "\n",
    "train_data = pd.read_csv(\"digit-recognizer/train.csv\")\n"
   ]
  },
  {
   "cell_type": "code",
   "execution_count": 17,
   "metadata": {},
   "outputs": [
    {
     "data": {
      "text/plain": [
       "<matplotlib.image.AxesImage at 0x7fb4cd226880>"
      ]
     },
     "execution_count": 17,
     "metadata": {},
     "output_type": "execute_result"
    },
    {
     "data": {
      "image/png": "[encoded data removed]",
      "text/plain": [
       "<Figure size 432x288 with 1 Axes>"
      ]
     },
     "metadata": {
      "needs_background": "light"
     },
     "output_type": "display_data"
    }
   ],
   "source": [
    "original_image = train_data.iloc[1]\n",
    "image_1 = np.array(original_image.iloc[1:]).reshape(28,28)\n",
    "\n",
    "plt.imshow(image_1,cmap='gist_gray')"
   ]
  },
  {
   "cell_type": "markdown",
   "metadata": {},
   "source": [
    "Plot"
   ]
  },
  {
   "cell_type": "code",
   "execution_count": 20,
   "metadata": {},
   "outputs": [
    {
     "data": {
      "image/png": "[encoded data removed]",
      "text/plain": [
       "<Figure size 360x216 with 1 Axes>"
      ]
     },
     "metadata": {
      "needs_background": "light"
     },
     "output_type": "display_data"
    }
   ],
   "source": [
    "def f(x):\n",
    "    return x*2\n",
    "np.random.seed(42)\n",
    "x = np.random.uniform(0, 1, 20)\n",
    "\n",
    "# Create the targets t with some Gaussian noises\n",
    "noise = np.random.normal(0, 0.3, size=x.shape[0])\n",
    "t = f(x) + noise\n",
    "\n",
    "# Plot the target t versus the input x\n",
    "plt.figure(figsize=(5,3))\n",
    "plt.plot(x, t, 'o', label='$t$')\n",
    "plt.plot([0, 1], [f(0), f(1)], 'k--', label='$f(x)$')\n",
    "plt.xlabel('$x$')\n",
    "plt.ylabel('$t$')\n",
    "plt.legend()\n",
    "plt.show()"
   ]
  },
  {
   "cell_type": "markdown",
   "metadata": {},
   "source": [
    "Find the Projection matrix B\n",
    "and orthonormalize it"
   ]
  },
  {
   "cell_type": "markdown",
   "metadata": {},
   "source": [
    "10.1 Problem setting\n",
    "\n",
    "pssessess the data covariance matrix\n",
    "\n",
    "$\\begin{equation}\n",
    "S = \\frac{1}{N} \\sum_{n=1}^{10} x_n x_n^T\n",
    "\\end{equation}$\n",
    "\n",
    "And we assume there exists a low-dimensional compressed representation\n",
    "\n",
    "$z_n = B^T x_n \\in R^M$"
   ]
  }
 ],
 "metadata": {
  "kernelspec": {
   "display_name": "Python 3.9.12 ('base')",
   "language": "python",
   "name": "python3"
  },
  "language_info": {
   "codemirror_mode": {
    "name": "ipython",
    "version": 3
   },
   "file_extension": ".py",
   "mimetype": "text/x-python",
   "name": "python",
   "nbconvert_exporter": "python",
   "pygments_lexer": "ipython3",
   "version": "3.9.12"
  },
  "orig_nbformat": 4,
  "vscode": {
   "interpreter": {
    "hash": "6dcb0d9805d08a843cfc853bb719e5cc69641d6ffa2eb5de5176bae33a8f36bf"
   }
  }
 },
 "nbformat": 4,
 "nbformat_minor": 2
}
