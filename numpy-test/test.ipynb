{
 "cells": [
  {
   "cell_type": "code",
   "execution_count": 1,
   "metadata": {},
   "outputs": [
    {
     "name": "stdout",
     "output_type": "stream",
     "text": [
      "35\n"
     ]
    }
   ],
   "source": [
    "import numpy as np\n",
    "\n",
    "# Trace is sum of diagonal elements\n",
    "\n",
    "a = np.array([[1,2,3],[12,34,52]])\n",
    "print(np.trace(a))\n"
   ]
  },
  {
   "cell_type": "markdown",
   "metadata": {},
   "source": [
    "$\\forall x \\in X, \\quad \\exists y \\leq \\epsilon$"
   ]
  }
 ],
 "metadata": {
  "kernelspec": {
   "display_name": "Python 3.9.12 ('base')",
   "language": "python",
   "name": "python3"
  },
  "language_info": {
   "codemirror_mode": {
    "name": "ipython",
    "version": 3
   },
   "file_extension": ".py",
   "mimetype": "text/x-python",
   "name": "python",
   "nbconvert_exporter": "python",
   "pygments_lexer": "ipython3",
   "version": "3.9.12"
  },
  "orig_nbformat": 4,
  "vscode": {
   "interpreter": {
    "hash": "6dcb0d9805d08a843cfc853bb719e5cc69641d6ffa2eb5de5176bae33a8f36bf"
   }
  }
 },
 "nbformat": 4,
 "nbformat_minor": 2
}
