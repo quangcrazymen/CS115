{
  "cells": [
    {
      "cell_type": "markdown",
      "metadata": {
        "id": "HDTNiCTFMkMh"
      },
      "source": [
        "### Inport necessary packages"
      ]
    },
    {
      "cell_type": "code",
      "execution_count": null,
      "metadata": {
        "id": "JP7PLCNyyv3T"
      },
      "outputs": [],
      "source": [
        "import torch\n",
        "from torch.utils.data import DataLoader\n",
        "import torchvision.datasets as datasets\n",
        "import torchvision.transforms as transforms"
      ]
    },
    {
      "cell_type": "code",
      "execution_count": null,
      "metadata": {
        "id": "5YxLttjnWkAI"
      },
      "outputs": [],
      "source": [
        "import matplotlib.pyplot as plt"
      ]
    },
    {
      "cell_type": "code",
      "execution_count": null,
      "metadata": {
        "id": "YYY1wKteWi-6"
      },
      "outputs": [],
      "source": [
        "import random\n",
        "import numpy as np"
      ]
    },
    {
      "cell_type": "code",
      "execution_count": null,
      "metadata": {
        "id": "nJdWaRvkMuzC"
      },
      "outputs": [],
      "source": [
        "import torch.nn as nn\n",
        "import torch.nn.functional as F"
      ]
    },
    {
      "cell_type": "code",
      "execution_count": null,
      "metadata": {
        "id": "2dw8ElsOMvVl"
      },
      "outputs": [],
      "source": [
        "import os\n",
        "import cv2"
      ]
    },
    {
      "cell_type": "code",
      "execution_count": null,
      "metadata": {
        "id": "g72Nbha2pGLC"
      },
      "outputs": [],
      "source": [
        "seed = 20520720"
      ]
    },
    {
      "cell_type": "code",
      "execution_count": null,
      "metadata": {
        "id": "Ux1pwHpipCeJ"
      },
      "outputs": [],
      "source": [
        "random.seed(seed)\n",
        "np.random.seed(seed)\n",
        "torch.manual_seed(seed)\n",
        "torch.backends.cudnn.deterministic = True\n",
        "torch.backends.cudnn.benchmark = False"
      ]
    },
    {
      "cell_type": "markdown",
      "metadata": {
        "id": "eCoKxN-gM6Dq"
      },
      "source": [
        "### Load Folio Leaf Dataset"
      ]
    },
    {
      "cell_type": "code",
      "execution_count": null,
      "metadata": {
        "id": "zTjpMINjqyko"
      },
      "outputs": [],
      "source": [
        "root_dir = 'The directory contains the Folio Leaf Dataset' # Example: '/content/drive/MyDrive/CS115/Folio Leaf Dataset'"
      ]
    },
    {
      "cell_type": "code",
      "execution_count": null,
      "metadata": {
        "id": "1zOLYl_Iqyko"
      },
      "outputs": [],
      "source": [
        "list_folders = os.listdir(root_dir)\n",
        "list_folders"
      ]
    },
    {
      "cell_type": "code",
      "execution_count": null,
      "metadata": {
        "id": "Z8I9PN4ts97c"
      },
      "outputs": [],
      "source": [
        "def resize(image):\n",
        "    return cv2.resize(image, (232, 412))"
      ]
    },
    {
      "cell_type": "markdown",
      "metadata": {
        "id": "hdib0J6FPqxp"
      },
      "source": [
        "### Process the raw data"
      ]
    },
    {
      "cell_type": "code",
      "execution_count": null,
      "metadata": {
        "id": "lMHjHCFJloPL"
      },
      "outputs": [],
      "source": [
        "# Create dataset (X, y)\n",
        "X, y = [], []\n",
        "for folder in list_folders:\n",
        "  list_image_paths = os.listdir(root_dir + '/' + folder)\n",
        "  for image_path in list_image_paths:\n",
        "    img_matrix = resize(cv2.imread(root_dir + '/' + folder + '/' + image_path, 0))\n",
        "    X.append([img_matrix])\n",
        "    y.append(folder)"
      ]
    },
    {
      "cell_type": "code",
      "execution_count": null,
      "metadata": {
        "id": "jw5AlCoxqykq"
      },
      "outputs": [],
      "source": [
        "# Task: Normalize the value of each pixel by dividing them to 255\n"
      ]
    },
    {
      "cell_type": "code",
      "execution_count": null,
      "metadata": {
        "id": "U5lpaX6tqykq"
      },
      "outputs": [],
      "source": [
        "# Task: Perform 'label encoding' on y\n",
        "from sklearn.preprocessing import LabelEncoder\n",
        "le = '...'"
      ]
    },
    {
      "cell_type": "code",
      "execution_count": null,
      "metadata": {
        "id": "6p8WjtU-ATPk"
      },
      "outputs": [],
      "source": [
        "y = le.fit_transform(y)"
      ]
    },
    {
      "cell_type": "markdown",
      "metadata": {
        "id": "nV3VMG9LPwMP"
      },
      "source": [
        "### Create the train/test set"
      ]
    },
    {
      "cell_type": "code",
      "execution_count": null,
      "metadata": {
        "id": "QrscjPstqykr"
      },
      "outputs": [],
      "source": [
        "# Task: Split dataset into training and testing set (7:3, random_seed = Your Student ID)\n"
      ]
    },
    {
      "cell_type": "code",
      "execution_count": null,
      "metadata": {
        "id": "8LqXswqNqyks"
      },
      "outputs": [],
      "source": [
        "X_train, X_test = np.array(X_train), np.array(X_test)\n",
        "y_train, y_test = np.array(y_train), np.array(y_test)"
      ]
    },
    {
      "cell_type": "code",
      "execution_count": null,
      "metadata": {
        "id": "5Zk2gCWfqyks"
      },
      "outputs": [],
      "source": [
        "# Task: Convert the data type of X_train, X_test, y_train, y_test to 'Tensor'\n"
      ]
    },
    {
      "cell_type": "code",
      "execution_count": null,
      "metadata": {
        "id": "jP7Cz18Iqykt"
      },
      "outputs": [],
      "source": [
        "# Task: Create train_dataset, test_dataset\n"
      ]
    },
    {
      "cell_type": "code",
      "execution_count": null,
      "metadata": {
        "id": "PHd0ggPMqykt"
      },
      "outputs": [],
      "source": []
    },
    {
      "cell_type": "code",
      "execution_count": null,
      "metadata": {
        "id": "6VafzaSKO7EH"
      },
      "outputs": [],
      "source": [
        "# Task: Create train_loader (batch_size = 64), test_loader\n"
      ]
    },
    {
      "cell_type": "code",
      "execution_count": null,
      "metadata": {
        "id": "-qG76ZpVPCFP"
      },
      "outputs": [],
      "source": []
    },
    {
      "cell_type": "markdown",
      "metadata": {
        "id": "SzV2uJkDPyvb"
      },
      "source": [
        "### Implement Classifiers"
      ]
    },
    {
      "cell_type": "code",
      "execution_count": null,
      "metadata": {
        "id": "T4X5BfsQbKrJ"
      },
      "outputs": [],
      "source": [
        "# Task: Implement \"Logistic Regression\" model with PyTorch\n"
      ]
    },
    {
      "cell_type": "code",
      "execution_count": null,
      "metadata": {
        "id": "1hEhCqsBfWKr"
      },
      "outputs": [],
      "source": [
        "import torch.optim as optim"
      ]
    },
    {
      "cell_type": "code",
      "execution_count": null,
      "metadata": {
        "colab": {
          "base_uri": "https://localhost:8080/"
        },
        "id": "S4dDN9_Pf2DA",
        "outputId": "5b1e8dcf-d05a-43ca-e227-e738c9a3e7c0"
      },
      "outputs": [
        {
          "data": {
            "text/plain": [
              "device(type='cuda')"
            ]
          },
          "execution_count": 33,
          "metadata": {},
          "output_type": "execute_result"
        }
      ],
      "source": [
        "device = torch.device('cuda' if torch.cuda.is_available() else 'cpu')\n",
        "device"
      ]
    },
    {
      "cell_type": "code",
      "execution_count": null,
      "metadata": {
        "id": "pZotr39MfQVv"
      },
      "outputs": [],
      "source": [
        "# Task: Design the 'train_model' function for training models\n",
        "# Loss Function: Cross Entropy Loss\n",
        "# Optimizer: Adam -> optim.Adam(model.parameters(), lr=...)\n"
      ]
    },
    {
      "cell_type": "code",
      "execution_count": null,
      "metadata": {
        "id": "4Ac_OL87wkO3"
      },
      "outputs": [],
      "source": [
        "# Task: Design the 'model_evaluation' function for evaluating the trained models\n"
      ]
    },
    {
      "cell_type": "code",
      "execution_count": null,
      "metadata": {
        "id": "sn9y1nbgymZu"
      },
      "outputs": [],
      "source": [
        "# Train Logistic Regression model\n",
        "# Input dim = 412 * 232\n",
        "# Output dim = 32\n",
        "# Initial Learning Rate: 0.001\n",
        "# Max Epoch = 600\n"
      ]
    },
    {
      "cell_type": "code",
      "execution_count": null,
      "metadata": {
        "id": "R1RsvHAsy2UI"
      },
      "outputs": [],
      "source": [
        "plt.plot(range(1, len(loss_each_epoch_LR) + 1), loss_each_epoch_LR)\n",
        "plt.xlabel('Epoch')\n",
        "plt.ylabel('Loss')\n",
        "plt.title('LogisticRegression')"
      ]
    },
    {
      "cell_type": "code",
      "execution_count": null,
      "metadata": {
        "id": "gEzLMsJRyAX_"
      },
      "outputs": [],
      "source": [
        "print('Logistic Regression (Train Accuracy)')\n",
        "model_evaluation(data_loader=train_loader, model=clf_LR)"
      ]
    },
    {
      "cell_type": "code",
      "execution_count": null,
      "metadata": {
        "id": "RXNug6VYUaSx"
      },
      "outputs": [],
      "source": [
        "print('Logistic Regression (Test Accuracy)')\n",
        "model_evaluation(data_loader=test_loader, model=clf_LR)"
      ]
    },
    {
      "cell_type": "code",
      "execution_count": null,
      "metadata": {
        "id": "gCrrs6EITLf2"
      },
      "outputs": [],
      "source": [
        "ROW_IMG, N_ROWS = 3, 2\n",
        "\n",
        "fig = plt.figure()\n",
        "for index in range(1, ROW_IMG * N_ROWS + 1):\n",
        "    plt.subplot(N_ROWS, ROW_IMG, index)\n",
        "    plt.axis('off')\n",
        "    plt.imshow(test_dataset[index][0].squeeze(), cmap='gray_r')\n",
        "    \n",
        "    with torch.no_grad():\n",
        "        clf_LR.eval()\n",
        "        X = test_dataset[index][0].reshape(test_dataset[index][0].shape[0], -1).to(device)\n",
        "        _, probs = clf_LR(X)\n",
        "    title = f'Predict: {le.inverse_transform([torch.argmax(probs).item()])[0]} ({torch.max(probs * 100):.0f}%)\\n True Label: {le.inverse_transform([test_dataset[index][-1]])[0]}'\n",
        "    \n",
        "    plt.title(title, fontsize=7)\n",
        "plt.show()"
      ]
    },
    {
      "cell_type": "code",
      "execution_count": null,
      "metadata": {
        "id": "r_Pm9qpp2Aa5"
      },
      "outputs": [],
      "source": [
        "# Task: Build a MLP model with 6 layers (input layer, ouput layer and 4 hidden layers)\n",
        "# The activation of each node in 'input' layer and 'hidden' layers is ReLU\n",
        "# Information about each layer:\n",
        "# + Input layer: (input_dim, 2048)\n",
        "# + Hidden layer 1: (2048, 1024)\n",
        "# + Hidden layer 2: (1024, 1024)\n",
        "# + Hidden layer 3: (1024, 512)\n",
        "# + Hidden layer 4: (512, 512)\n",
        "# + Output layer: (512, output_dim)\n"
      ]
    },
    {
      "cell_type": "code",
      "execution_count": null,
      "metadata": {
        "id": "AvgokuKmT6LW"
      },
      "outputs": [],
      "source": [
        "clf_MLP = MLP(input_dim=412 * 232, output_dim=32).to(device)\n",
        "clf_MLP"
      ]
    },
    {
      "cell_type": "code",
      "execution_count": null,
      "metadata": {
        "id": "uJCl4O0RReP7"
      },
      "outputs": [],
      "source": [
        "# Train MLP model\n",
        "# Input dim = 412 * 233\n",
        "# Output dim = 32\n",
        "# Initial Learning Rate: 0.001\n",
        "# Max Epoch = 600\n"
      ]
    },
    {
      "cell_type": "code",
      "execution_count": null,
      "metadata": {
        "id": "46kEeCE4j9AP"
      },
      "outputs": [],
      "source": [
        "plt.plot(range(1, len(loss_each_epoch_MLP) + 1), loss_each_epoch_MLP)\n",
        "plt.xlabel('Epoch')\n",
        "plt.ylabel('Loss')\n",
        "plt.title('MLP')\n",
        "plt.show()"
      ]
    },
    {
      "cell_type": "code",
      "execution_count": null,
      "metadata": {
        "id": "IynO3NcfyT0O"
      },
      "outputs": [],
      "source": [
        "print('Multi Layer Perceptron (Train Accuracy)')\n",
        "model_evaluation(train_loader, clf_MLP)"
      ]
    },
    {
      "cell_type": "code",
      "execution_count": null,
      "metadata": {
        "id": "v7izp5kKUb7q"
      },
      "outputs": [],
      "source": [
        "print('Multi Layer Perceptron (Test Accuracy)')\n",
        "model_evaluation(test_loader, clf_MLP)"
      ]
    },
    {
      "cell_type": "code",
      "execution_count": null,
      "metadata": {
        "id": "t6lEF38rx5VC"
      },
      "outputs": [],
      "source": [
        "ROW_IMG, N_ROWS = 3, 2\n",
        "\n",
        "fig = plt.figure()\n",
        "for index in range(1, ROW_IMG * N_ROWS + 1):\n",
        "    plt.subplot(N_ROWS, ROW_IMG, index)\n",
        "    plt.axis('off')\n",
        "    plt.imshow(test_dataset[index][0].squeeze(), cmap='gray_r')\n",
        "    \n",
        "    with torch.no_grad():\n",
        "        clf_MLP.eval()\n",
        "        X = test_dataset[index][0].reshape(test_dataset[index][0].shape[0], -1).to(device)\n",
        "        _, probs = clf_MLP(X)\n",
        "    title = f'Predict: {le.inverse_transform([torch.argmax(probs).item()])[0]} ({torch.max(probs * 100):.0f}%)\\n True Label: {le.inverse_transform([test_dataset[index][-1]])[0]}'\n",
        "    \n",
        "    plt.title(title, fontsize=7)\n",
        "plt.show()"
      ]
    }
  ],
  "metadata": {
    "accelerator": "GPU",
    "colab": {
      "provenance": []
    },
    "kernelspec": {
      "display_name": "Python 3.9.12 ('base')",
      "language": "python",
      "name": "python3"
    },
    "language_info": {
      "name": "python",
      "version": "3.9.12"
    },
    "vscode": {
      "interpreter": {
        "hash": "6dcb0d9805d08a843cfc853bb719e5cc69641d6ffa2eb5de5176bae33a8f36bf"
      }
    }
  },
  "nbformat": 4,
  "nbformat_minor": 0
}
